{
 "cells": [
  {
   "cell_type": "markdown",
   "id": "069e8c78",
   "metadata": {},
   "source": [
    "# json-flattener: command line examples\n",
    "\n",
    "This walks through some examples of running json-flattener on the command line.\n",
    "\n",
    "You can run this notebook if you check out the github repo OR you can run on mybinder:\n",
    "\n",
    "https://mybinder.org/v2/gh/cmungall/json-flattener/main?filepath=EXAMPLE.ipynb"
   ]
  },
  {
   "cell_type": "markdown",
   "id": "8c9a5f8f",
   "metadata": {},
   "source": [
    "## Command Line help\n",
    "\n",
    "You can always run `--help` to get the full options."
   ]
  },
  {
   "cell_type": "code",
   "execution_count": 1,
   "id": "9a86b797",
   "metadata": {},
   "outputs": [
    {
     "name": "stdout",
     "output_type": "stream",
     "text": [
      "Usage: jfl [OPTIONS] COMMAND [ARGS]...\r\n",
      "\r\n",
      "  Main\r\n",
      "\r\n",
      "  Args:\r\n",
      "\r\n",
      "      verbose (int): Verbose.     quiet (bool): Quiet.\r\n",
      "\r\n",
      "  Returns:\r\n",
      "\r\n",
      "      None.\r\n",
      "\r\n",
      "Options:\r\n",
      "  -v, --verbose\r\n",
      "  -q, --quiet TEXT\r\n",
      "  --help            Show this message and exit.\r\n",
      "\r\n",
      "Commands:\r\n",
      "  flatten    Flatten a file to TSV/CSV Example: jfl flatten --input my.yaml...\r\n",
      "  unflatten  Unflatten a file from TSV/CSV Example: jfl unflatten --input...\r\n"
     ]
    }
   ],
   "source": [
    "!jfl --help"
   ]
  },
  {
   "cell_type": "markdown",
   "id": "a5370df7",
   "metadata": {},
   "source": [
    "### flatten command\n",
    "\n",
    "jfl has two sub-commands, `flatten` and `unflatten`. We will get to unflatten later. To get help on `flatten`:"
   ]
  },
  {
   "cell_type": "code",
   "execution_count": 2,
   "id": "7730a2ca",
   "metadata": {},
   "outputs": [
    {
     "name": "stdout",
     "output_type": "stream",
     "text": [
      "Usage: jfl flatten [OPTIONS]\r\n",
      "\r\n",
      "  Flatten a file to TSV/CSV\r\n",
      "\r\n",
      "  Example:     jfl flatten --input my.yaml --output my.tsv\r\n",
      "\r\n",
      "  Args:\r\n",
      "\r\n",
      "      input (str): The path to the input YAML or JSON file     output (str):\r\n",
      "      The path to the output file.     output_format (str): The format to\r\n",
      "      which the TSV should be converted.\r\n",
      "\r\n",
      "Options:\r\n",
      "  -i, --input PATH             Input file, e.g. a SSSOM tsv file.  [required]\r\n",
      "  -I, --input-format TEXT      The string denoting the input format, e.g.\r\n",
      "                               tsv,csv,yaml,json\r\n",
      "\r\n",
      "  -o, --output TEXT            Output file, e.g. a SSSOM tsv file.\r\n",
      "  -t, --output-format TEXT     Desired output format, e.g. tsv,csv,yaml,json\r\n",
      "  -L, --multivalued-keys TEXT  List of keys that are multivalued\r\n",
      "  -F, --flatten-keys TEXT      List of keys that are to be flattened\r\n",
      "  -s, --serializer TEXT        Serializer to use for complex keys\r\n",
      "  -S, --serialized-keys TEXT   List of keys that are to be serialized using\r\n",
      "                               the serializer\r\n",
      "\r\n",
      "  -C, --config-key TEXT        Key configuration. Must be of form\r\n",
      "                               KEY={yaml,json,flat,multivalued}*\r\n",
      "\r\n",
      "  -c, --load-config TEXT       Path to global configuration file to be loaded\r\n",
      "  -O, --save-config TEXT       Path to global configuration file to be saved\r\n",
      "  -k, --key TEXT               Key in root object to be used.\r\n",
      "  --help                       Show this message and exit.\r\n"
     ]
    }
   ],
   "source": [
    "!jfl flatten --help"
   ]
  },
  {
   "cell_type": "markdown",
   "id": "2618dce1",
   "metadata": {},
   "source": [
    "## Example Input file\n",
    "\n",
    "This example uses a JSON input file containing a list of book series. Each book series holds one or more book objects. Both series and books and hold other objects such as creators and reviews.\n",
    "\n",
    "Note the input could be either JSON or YAML. Here we demonstrate with a pre-prepared JSON file [examples/books1.json](examples/books1.json)"
   ]
  },
  {
   "cell_type": "code",
   "execution_count": 3,
   "id": "ef605de0",
   "metadata": {},
   "outputs": [
    {
     "name": "stdout",
     "output_type": "stream",
     "text": [
      "\u001b[1;39m{\r\n",
      "  \u001b[0m\u001b[34;1m\"all_book_series\"\u001b[0m\u001b[1;39m: \u001b[0m\u001b[1;39m[\r\n",
      "    \u001b[1;39m{\r\n",
      "      \u001b[0m\u001b[34;1m\"books\"\u001b[0m\u001b[1;39m: \u001b[0m\u001b[1;39m[\r\n",
      "        \u001b[1;39m{\r\n",
      "          \u001b[0m\u001b[34;1m\"price\"\u001b[0m\u001b[1;39m: \u001b[0m\u001b[0;39m5.99\u001b[0m\u001b[1;39m,\r\n",
      "          \u001b[0m\u001b[34;1m\"id\"\u001b[0m\u001b[1;39m: \u001b[0m\u001b[0;32m\"S001.1\"\u001b[0m\u001b[1;39m,\r\n",
      "          \u001b[0m\u001b[34;1m\"summary\"\u001b[0m\u001b[1;39m: \u001b[0m\u001b[0;32m\"Hobbits\"\u001b[0m\u001b[1;39m,\r\n",
      "          \u001b[0m\u001b[34;1m\"name\"\u001b[0m\u001b[1;39m: \u001b[0m\u001b[0;32m\"Fellowship of the Ring\"\u001b[0m\u001b[1;39m\r\n",
      "        \u001b[1;39m}\u001b[0m\u001b[1;39m,\r\n",
      "        \u001b[1;39m{\r\n",
      "          \u001b[0m\u001b[34;1m\"price\"\u001b[0m\u001b[1;39m: \u001b[0m\u001b[0;39m5.99\u001b[0m\u001b[1;39m,\r\n",
      "          \u001b[0m\u001b[34;1m\"summary\"\u001b[0m\u001b[1;39m: \u001b[0m\u001b[0;32m\"More hobbits\"\u001b[0m\u001b[1;39m,\r\n",
      "          \u001b[0m\u001b[34;1m\"id\"\u001b[0m\u001b[1;39m: \u001b[0m\u001b[0;32m\"S001.2\"\u001b[0m\u001b[1;39m,\r\n",
      "          \u001b[0m\u001b[34;1m\"name\"\u001b[0m\u001b[1;39m: \u001b[0m\u001b[0;32m\"The Two Towers\"\u001b[0m\u001b[1;39m\r\n",
      "        \u001b[1;39m}\u001b[0m\u001b[1;39m,\r\n",
      "        \u001b[1;39m{\r\n",
      "          \u001b[0m\u001b[34;1m\"price\"\u001b[0m\u001b[1;39m: \u001b[0m\u001b[0;39m6.99\u001b[0m\u001b[1;39m,\r\n",
      "          \u001b[0m\u001b[34;1m\"id\"\u001b[0m\u001b[1;39m: \u001b[0m\u001b[0;32m\"S001.3\"\u001b[0m\u001b[1;39m,\r\n",
      "          \u001b[0m\u001b[34;1m\"summary\"\u001b[0m\u001b[1;39m: \u001b[0m\u001b[0;32m\"Yet more hobbits\"\u001b[0m\u001b[1;39m,\r\n",
      "          \u001b[0m\u001b[34;1m\"name\"\u001b[0m\u001b[1;39m: \u001b[0m\u001b[0;32m\"Return of the King\"\u001b[0m\u001b[1;39m\r\n",
      "        \u001b[1;39m}\u001b[0m\u001b[1;39m\r\n",
      "      \u001b[1;39m]\u001b[0m\u001b[1;39m,\r\n",
      "      \u001b[0m\u001b[34;1m\"genres\"\u001b[0m\u001b[1;39m: \u001b[0m\u001b[1;39m[\r\n",
      "        \u001b[0;32m\"fantasy\"\u001b[0m\u001b[1;39m\r\n",
      "      \u001b[1;39m]\u001b[0m\u001b[1;39m,\r\n",
      "      \u001b[0m\u001b[34;1m\"id\"\u001b[0m\u001b[1;39m: \u001b[0m\u001b[0;32m\"S001\"\u001b[0m\u001b[1;39m,\r\n",
      "      \u001b[0m\u001b[34;1m\"name\"\u001b[0m\u001b[1;39m: \u001b[0m\u001b[0;32m\"Lord of the Rings\"\u001b[0m\u001b[1;39m,\r\n",
      "      \u001b[0m\u001b[34;1m\"creator\"\u001b[0m\u001b[1;39m: \u001b[0m\u001b[1;39m{\r\n",
      "        \u001b[0m\u001b[34;1m\"from_country\"\u001b[0m\u001b[1;39m: \u001b[0m\u001b[0;32m\"England\"\u001b[0m\u001b[1;39m,\r\n",
      "        \u001b[0m\u001b[34;1m\"name\"\u001b[0m\u001b[1;39m: \u001b[0m\u001b[0;32m\"JRR Tolkein\"\u001b[0m\u001b[1;39m\r\n",
      "      \u001b[1;39m}\u001b[0m\u001b[1;39m\r\n",
      "    \u001b[1;39m}\u001b[0m\u001b[1;39m,\r\n",
      "    \u001b[1;39m{\r\n",
      "      \u001b[0m\u001b[34;1m\"name\"\u001b[0m\u001b[1;39m: \u001b[0m\u001b[0;32m\"The Culture Series\"\u001b[0m\u001b[1;39m,\r\n",
      "      \u001b[0m\u001b[34;1m\"creator\"\u001b[0m\u001b[1;39m: \u001b[0m\u001b[1;39m{\r\n",
      "        \u001b[0m\u001b[34;1m\"name\"\u001b[0m\u001b[1;39m: \u001b[0m\u001b[0;32m\"Ian M Banks\"\u001b[0m\u001b[1;39m,\r\n",
      "        \u001b[0m\u001b[34;1m\"from_country\"\u001b[0m\u001b[1;39m: \u001b[0m\u001b[0;32m\"Scotland\"\u001b[0m\u001b[1;39m\r\n",
      "      \u001b[1;39m}\u001b[0m\u001b[1;39m,\r\n",
      "      \u001b[0m\u001b[34;1m\"id\"\u001b[0m\u001b[1;39m: \u001b[0m\u001b[0;32m\"S002\"\u001b[0m\u001b[1;39m,\r\n",
      "      \u001b[0m\u001b[34;1m\"genres\"\u001b[0m\u001b[1;39m: \u001b[0m\u001b[1;39m[\r\n",
      "        \u001b[0;32m\"scifi\"\u001b[0m\u001b[1;39m\r\n",
      "      \u001b[1;39m]\u001b[0m\u001b[1;39m,\r\n",
      "      \u001b[0m\u001b[34;1m\"books\"\u001b[0m\u001b[1;39m: \u001b[0m\u001b[1;39m[\r\n",
      "        \u001b[1;39m{\r\n",
      "          \u001b[0m\u001b[34;1m\"price\"\u001b[0m\u001b[1;39m: \u001b[0m\u001b[0;39m5.99\u001b[0m\u001b[1;39m,\r\n",
      "          \u001b[0m\u001b[34;1m\"id\"\u001b[0m\u001b[1;39m: \u001b[0m\u001b[0;32m\"S002.1\"\u001b[0m\u001b[1;39m,\r\n",
      "          \u001b[0m\u001b[34;1m\"name\"\u001b[0m\u001b[1;39m: \u001b[0m\u001b[0;32m\"Consider Phlebas\"\u001b[0m\u001b[1;39m\r\n",
      "        \u001b[1;39m}\u001b[0m\u001b[1;39m,\r\n",
      "        \u001b[1;39m{\r\n",
      "          \u001b[0m\u001b[34;1m\"price\"\u001b[0m\u001b[1;39m: \u001b[0m\u001b[0;39m5.99\u001b[0m\u001b[1;39m,\r\n",
      "          \u001b[0m\u001b[34;1m\"name\"\u001b[0m\u001b[1;39m: \u001b[0m\u001b[0;32m\"Player of Games\"\u001b[0m\u001b[1;39m,\r\n",
      "          \u001b[0m\u001b[34;1m\"id\"\u001b[0m\u001b[1;39m: \u001b[0m\u001b[0;32m\"S002.2\"\u001b[0m\u001b[1;39m\r\n",
      "        \u001b[1;39m}\u001b[0m\u001b[1;39m\r\n",
      "      \u001b[1;39m]\u001b[0m\u001b[1;39m\r\n",
      "    \u001b[1;39m}\u001b[0m\u001b[1;39m,\r\n",
      "    \u001b[1;39m{\r\n",
      "      \u001b[0m\u001b[34;1m\"name\"\u001b[0m\u001b[1;39m: \u001b[0m\u001b[0;32m\"Book of the New Sun\"\u001b[0m\u001b[1;39m,\r\n",
      "      \u001b[0m\u001b[34;1m\"creator\"\u001b[0m\u001b[1;39m: \u001b[0m\u001b[1;39m{\r\n",
      "        \u001b[0m\u001b[34;1m\"genres\"\u001b[0m\u001b[1;39m: \u001b[0m\u001b[1;39m[\r\n",
      "          \u001b[0;32m\"scifi\"\u001b[0m\u001b[1;39m,\r\n",
      "          \u001b[0;32m\"fantasy\"\u001b[0m\u001b[1;39m\r\n",
      "        \u001b[1;39m]\u001b[0m\u001b[1;39m,\r\n",
      "        \u001b[0m\u001b[34;1m\"name\"\u001b[0m\u001b[1;39m: \u001b[0m\u001b[0;32m\"Gene Wolfe\"\u001b[0m\u001b[1;39m,\r\n",
      "        \u001b[0m\u001b[34;1m\"from_country\"\u001b[0m\u001b[1;39m: \u001b[0m\u001b[0;32m\"USA\"\u001b[0m\u001b[1;39m\r\n",
      "      \u001b[1;39m}\u001b[0m\u001b[1;39m,\r\n",
      "      \u001b[0m\u001b[34;1m\"books\"\u001b[0m\u001b[1;39m: \u001b[0m\u001b[1;39m[\r\n",
      "        \u001b[1;39m{\r\n",
      "          \u001b[0m\u001b[34;1m\"name\"\u001b[0m\u001b[1;39m: \u001b[0m\u001b[0;32m\"Shadow of the Torturer\"\u001b[0m\u001b[1;39m,\r\n",
      "          \u001b[0m\u001b[34;1m\"id\"\u001b[0m\u001b[1;39m: \u001b[0m\u001b[0;32m\"S003.1\"\u001b[0m\u001b[1;39m\r\n",
      "        \u001b[1;39m}\u001b[0m\u001b[1;39m,\r\n",
      "        \u001b[1;39m{\r\n",
      "          \u001b[0m\u001b[34;1m\"id\"\u001b[0m\u001b[1;39m: \u001b[0m\u001b[0;32m\"S003.2\"\u001b[0m\u001b[1;39m,\r\n",
      "          \u001b[0m\u001b[34;1m\"name\"\u001b[0m\u001b[1;39m: \u001b[0m\u001b[0;32m\"Claw of the Conciliator\"\u001b[0m\u001b[1;39m,\r\n",
      "          \u001b[0m\u001b[34;1m\"price\"\u001b[0m\u001b[1;39m: \u001b[0m\u001b[0;39m6.99\u001b[0m\u001b[1;39m\r\n",
      "        \u001b[1;39m}\u001b[0m\u001b[1;39m\r\n",
      "      \u001b[1;39m]\u001b[0m\u001b[1;39m,\r\n",
      "      \u001b[0m\u001b[34;1m\"id\"\u001b[0m\u001b[1;39m: \u001b[0m\u001b[0;32m\"S003\"\u001b[0m\u001b[1;39m,\r\n",
      "      \u001b[0m\u001b[34;1m\"genres\"\u001b[0m\u001b[1;39m: \u001b[0m\u001b[1;39m[\r\n",
      "        \u001b[0;32m\"scifi\"\u001b[0m\u001b[1;39m,\r\n",
      "        \u001b[0;32m\"fantasy\"\u001b[0m\u001b[1;39m\r\n",
      "      \u001b[1;39m]\u001b[0m\u001b[1;39m\r\n",
      "    \u001b[1;39m}\u001b[0m\u001b[1;39m,\r\n",
      "    \u001b[1;39m{\r\n",
      "      \u001b[0m\u001b[34;1m\"books\"\u001b[0m\u001b[1;39m: \u001b[0m\u001b[1;39m[\r\n",
      "        \u001b[1;39m{\r\n",
      "          \u001b[0m\u001b[34;1m\"name\"\u001b[0m\u001b[1;39m: \u001b[0m\u001b[0;32m\"Blah\"\u001b[0m\u001b[1;39m,\r\n",
      "          \u001b[0m\u001b[34;1m\"id\"\u001b[0m\u001b[1;39m: \u001b[0m\u001b[0;32m\"S004.1\"\u001b[0m\u001b[1;39m\r\n",
      "        \u001b[1;39m}\u001b[0m\u001b[1;39m\r\n",
      "      \u001b[1;39m]\u001b[0m\u001b[1;39m,\r\n",
      "      \u001b[0m\u001b[34;1m\"id\"\u001b[0m\u001b[1;39m: \u001b[0m\u001b[0;32m\"S004\"\u001b[0m\u001b[1;39m,\r\n",
      "      \u001b[0m\u001b[34;1m\"name\"\u001b[0m\u001b[1;39m: \u001b[0m\u001b[0;32m\"Example with single book\"\u001b[0m\u001b[1;39m,\r\n",
      "      \u001b[0m\u001b[34;1m\"creator\"\u001b[0m\u001b[1;39m: \u001b[0m\u001b[1;39m{\r\n",
      "        \u001b[0m\u001b[34;1m\"name\"\u001b[0m\u001b[1;39m: \u001b[0m\u001b[0;32m\"Ms Writer\"\u001b[0m\u001b[1;39m,\r\n",
      "        \u001b[0m\u001b[34;1m\"genres\"\u001b[0m\u001b[1;39m: \u001b[0m\u001b[1;39m[\r\n",
      "          \u001b[0;32m\"romance\"\u001b[0m\u001b[1;39m\r\n",
      "        \u001b[1;39m]\u001b[0m\u001b[1;39m,\r\n",
      "        \u001b[0m\u001b[34;1m\"from_country\"\u001b[0m\u001b[1;39m: \u001b[0m\u001b[0;32m\"USA\"\u001b[0m\u001b[1;39m\r\n",
      "      \u001b[1;39m}\u001b[0m\u001b[1;39m\r\n",
      "    \u001b[1;39m}\u001b[0m\u001b[1;39m,\r\n",
      "    \u001b[1;39m{\r\n",
      "      \u001b[0m\u001b[34;1m\"id\"\u001b[0m\u001b[1;39m: \u001b[0m\u001b[0;32m\"S005\"\u001b[0m\u001b[1;39m,\r\n",
      "      \u001b[0m\u001b[34;1m\"creator\"\u001b[0m\u001b[1;39m: \u001b[0m\u001b[1;39m{\r\n",
      "        \u001b[0m\u001b[34;1m\"from_country\"\u001b[0m\u001b[1;39m: \u001b[0m\u001b[0;32m\"USA\"\u001b[0m\u001b[1;39m,\r\n",
      "        \u001b[0m\u001b[34;1m\"genres\"\u001b[0m\u001b[1;39m: \u001b[0m\u001b[1;39m[\r\n",
      "          \u001b[0;32m\"romance\"\u001b[0m\u001b[1;39m,\r\n",
      "          \u001b[0;32m\"scifi\"\u001b[0m\u001b[1;39m,\r\n",
      "          \u001b[0;32m\"fantasy\"\u001b[0m\u001b[1;39m\r\n",
      "        \u001b[1;39m]\u001b[0m\u001b[1;39m,\r\n",
      "        \u001b[0m\u001b[34;1m\"name\"\u001b[0m\u001b[1;39m: \u001b[0m\u001b[0;32m\"Mr Unproductive\"\u001b[0m\u001b[1;39m\r\n",
      "      \u001b[1;39m}\u001b[0m\u001b[1;39m,\r\n",
      "      \u001b[0m\u001b[34;1m\"name\"\u001b[0m\u001b[1;39m: \u001b[0m\u001b[0;32m\"Example with no books\"\u001b[0m\u001b[1;39m\r\n",
      "    \u001b[1;39m}\u001b[0m\u001b[1;39m\r\n",
      "  \u001b[1;39m]\u001b[0m\u001b[1;39m\r\n",
      "\u001b[1;39m}\u001b[0m\r\n"
     ]
    }
   ],
   "source": [
    "# Use JQ to show the JSON structure\n",
    "!jq . examples/books1.json"
   ]
  },
  {
   "cell_type": "markdown",
   "id": "a1d18919",
   "metadata": {},
   "source": [
    "## Flattening to a TSV\n",
    "\n",
    "Now you can use the `flatten` command to denormalize this to a TSV (the default is tab-separated)\n",
    "\n",
    "There are a variety of options for configuring the denormalization. In this example, both the the `creator` field and `books` fields are flattened, with the latter holding an arrayL"
   ]
  },
  {
   "cell_type": "code",
   "execution_count": 4,
   "id": "a0c43338",
   "metadata": {},
   "outputs": [
    {
     "name": "stdout",
     "output_type": "stream",
     "text": [
      "WARNING:root:Selecting key automatically. Better to be explicit and pass in --key all_book_series\r\n"
     ]
    }
   ],
   "source": [
    "!jfl flatten -C creator=flat -C books=multivalued -i examples/books1.json -o examples/books1-flattened.tsv"
   ]
  },
  {
   "cell_type": "markdown",
   "id": "7f5e832a",
   "metadata": {},
   "source": [
    "Note that the input JSON is not in list format, instead there is a holder object which has a key `all_book_series` that points to the list we serialize. This is selected by default.\n",
    "\n",
    "To avoid the warning add `--key all_book_series`\n",
    "\n",
    "Next we can look at the list on the command line:"
   ]
  },
  {
   "cell_type": "code",
   "execution_count": 6,
   "id": "4332920e",
   "metadata": {},
   "outputs": [
    {
     "name": "stdout",
     "output_type": "stream",
     "text": [
      "genres\tid\tname\tcreator_from_country\tcreator_name\tbooks_summary\tbooks_name\tbooks_price\tbooks_id\tcreator_genres\r",
      "\r\n",
      "[fantasy]\tS001\tLord of the Rings\tEngland\tJRR Tolkein\t[Hobbits|More hobbits|Yet more hobbits]\t[Fellowship of the Ring|The Two Towers|Return of the King]\t[5.99|5.99|6.99]\t[S001.1|S001.2|S001.3]\t\r",
      "\r\n",
      "[scifi]\tS002\tThe Culture Series\tScotland\tIan M Banks\t\t[Consider Phlebas|Player of Games]\t[5.99|5.99]\t[S002.1|S002.2]\t\r",
      "\r\n",
      "[scifi|fantasy]\tS003\tBook of the New Sun\tUSA\tGene Wolfe\t\t[Shadow of the Torturer|Claw of the Conciliator]\t[|6.99]\t[S003.1|S003.2]\t[scifi|fantasy]\r",
      "\r\n",
      "\tS004\tExample with single book\tUSA\tMs Writer\t\t[Blah]\t\t[S004.1]\t[romance]\r",
      "\r\n",
      "\tS005\tExample with no books\tUSA\tMr Unproductive\t\t\t\t\t[romance|scifi|fantasy]\r",
      "\r\n"
     ]
    }
   ],
   "source": [
    "!cat examples/books1-flattened.tsv"
   ]
  },
  {
   "cell_type": "markdown",
   "id": "c72a1aab",
   "metadata": {},
   "source": [
    "## Exploring the CSV using Pandas\n",
    "\n",
    "Here we depart from the command line to show how to load the TSV in pandas/python"
   ]
  },
  {
   "cell_type": "code",
   "execution_count": 7,
   "id": "8fe7ed12",
   "metadata": {},
   "outputs": [],
   "source": [
    "import pandas as pd"
   ]
  },
  {
   "cell_type": "code",
   "execution_count": 8,
   "id": "74984e70",
   "metadata": {},
   "outputs": [
    {
     "data": {
      "text/html": [
       "<div>\n",
       "<style scoped>\n",
       "    .dataframe tbody tr th:only-of-type {\n",
       "        vertical-align: middle;\n",
       "    }\n",
       "\n",
       "    .dataframe tbody tr th {\n",
       "        vertical-align: top;\n",
       "    }\n",
       "\n",
       "    .dataframe thead th {\n",
       "        text-align: right;\n",
       "    }\n",
       "</style>\n",
       "<table border=\"1\" class=\"dataframe\">\n",
       "  <thead>\n",
       "    <tr style=\"text-align: right;\">\n",
       "      <th></th>\n",
       "      <th>genres</th>\n",
       "      <th>id</th>\n",
       "      <th>name</th>\n",
       "      <th>creator_from_country</th>\n",
       "      <th>creator_name</th>\n",
       "      <th>books_summary</th>\n",
       "      <th>books_name</th>\n",
       "      <th>books_price</th>\n",
       "      <th>books_id</th>\n",
       "      <th>creator_genres</th>\n",
       "    </tr>\n",
       "  </thead>\n",
       "  <tbody>\n",
       "    <tr>\n",
       "      <th>0</th>\n",
       "      <td>[fantasy]</td>\n",
       "      <td>S001</td>\n",
       "      <td>Lord of the Rings</td>\n",
       "      <td>England</td>\n",
       "      <td>JRR Tolkein</td>\n",
       "      <td>[Hobbits|More hobbits|Yet more hobbits]</td>\n",
       "      <td>[Fellowship of the Ring|The Two Towers|Return ...</td>\n",
       "      <td>[5.99|5.99|6.99]</td>\n",
       "      <td>[S001.1|S001.2|S001.3]</td>\n",
       "      <td>NaN</td>\n",
       "    </tr>\n",
       "    <tr>\n",
       "      <th>1</th>\n",
       "      <td>[scifi]</td>\n",
       "      <td>S002</td>\n",
       "      <td>The Culture Series</td>\n",
       "      <td>Scotland</td>\n",
       "      <td>Ian M Banks</td>\n",
       "      <td>NaN</td>\n",
       "      <td>[Consider Phlebas|Player of Games]</td>\n",
       "      <td>[5.99|5.99]</td>\n",
       "      <td>[S002.1|S002.2]</td>\n",
       "      <td>NaN</td>\n",
       "    </tr>\n",
       "    <tr>\n",
       "      <th>2</th>\n",
       "      <td>[scifi|fantasy]</td>\n",
       "      <td>S003</td>\n",
       "      <td>Book of the New Sun</td>\n",
       "      <td>USA</td>\n",
       "      <td>Gene Wolfe</td>\n",
       "      <td>NaN</td>\n",
       "      <td>[Shadow of the Torturer|Claw of the Conciliator]</td>\n",
       "      <td>[|6.99]</td>\n",
       "      <td>[S003.1|S003.2]</td>\n",
       "      <td>[scifi|fantasy]</td>\n",
       "    </tr>\n",
       "    <tr>\n",
       "      <th>3</th>\n",
       "      <td>NaN</td>\n",
       "      <td>S004</td>\n",
       "      <td>Example with single book</td>\n",
       "      <td>USA</td>\n",
       "      <td>Ms Writer</td>\n",
       "      <td>NaN</td>\n",
       "      <td>[Blah]</td>\n",
       "      <td>NaN</td>\n",
       "      <td>[S004.1]</td>\n",
       "      <td>[romance]</td>\n",
       "    </tr>\n",
       "    <tr>\n",
       "      <th>4</th>\n",
       "      <td>NaN</td>\n",
       "      <td>S005</td>\n",
       "      <td>Example with no books</td>\n",
       "      <td>USA</td>\n",
       "      <td>Mr Unproductive</td>\n",
       "      <td>NaN</td>\n",
       "      <td>NaN</td>\n",
       "      <td>NaN</td>\n",
       "      <td>NaN</td>\n",
       "      <td>[romance|scifi|fantasy]</td>\n",
       "    </tr>\n",
       "  </tbody>\n",
       "</table>\n",
       "</div>"
      ],
      "text/plain": [
       "            genres    id                      name creator_from_country  \\\n",
       "0        [fantasy]  S001         Lord of the Rings              England   \n",
       "1          [scifi]  S002        The Culture Series             Scotland   \n",
       "2  [scifi|fantasy]  S003       Book of the New Sun                  USA   \n",
       "3              NaN  S004  Example with single book                  USA   \n",
       "4              NaN  S005     Example with no books                  USA   \n",
       "\n",
       "      creator_name                            books_summary  \\\n",
       "0      JRR Tolkein  [Hobbits|More hobbits|Yet more hobbits]   \n",
       "1      Ian M Banks                                      NaN   \n",
       "2       Gene Wolfe                                      NaN   \n",
       "3        Ms Writer                                      NaN   \n",
       "4  Mr Unproductive                                      NaN   \n",
       "\n",
       "                                          books_name       books_price  \\\n",
       "0  [Fellowship of the Ring|The Two Towers|Return ...  [5.99|5.99|6.99]   \n",
       "1                 [Consider Phlebas|Player of Games]       [5.99|5.99]   \n",
       "2   [Shadow of the Torturer|Claw of the Conciliator]           [|6.99]   \n",
       "3                                             [Blah]               NaN   \n",
       "4                                                NaN               NaN   \n",
       "\n",
       "                 books_id           creator_genres  \n",
       "0  [S001.1|S001.2|S001.3]                      NaN  \n",
       "1         [S002.1|S002.2]                      NaN  \n",
       "2         [S003.1|S003.2]          [scifi|fantasy]  \n",
       "3                [S004.1]                [romance]  \n",
       "4                     NaN  [romance|scifi|fantasy]  "
      ]
     },
     "execution_count": 8,
     "metadata": {},
     "output_type": "execute_result"
    }
   ],
   "source": [
    "df = pd.read_csv('examples/books1-flattened.tsv', sep='\\t')\n",
    "df"
   ]
  },
  {
   "cell_type": "markdown",
   "id": "c4baacce",
   "metadata": {},
   "source": [
    "## Storing mappings\n",
    "\n",
    "What if we want to unflatten the TSV back into complex objects? This is possible, but it's first necessary to \n",
    "save the configuration object, as this has vital information on how the fields were mapped.\n",
    "\n",
    "We can do the same command as before, but adding a `--save-config` option:"
   ]
  },
  {
   "cell_type": "code",
   "execution_count": 9,
   "id": "3479e425",
   "metadata": {},
   "outputs": [
    {
     "name": "stdout",
     "output_type": "stream",
     "text": [
      "WARNING:root:Selecting key automatically. Better to be explicit and pass in --key all_book_series\r\n"
     ]
    }
   ],
   "source": [
    "!jfl flatten --save-config examples/books1-mappings.yaml -C creator=flat -C books=multivalued -i examples/books1.json \\\n",
    "  -o examples/books1-flattened.tsv"
   ]
  },
  {
   "cell_type": "code",
   "execution_count": 10,
   "id": "de1bc259",
   "metadata": {},
   "outputs": [
    {
     "name": "stdout",
     "output_type": "stream",
     "text": [
      "csv_delimiter: \"\\t\"\r\n",
      "csv_inner_delimiter: '|'\r\n",
      "csv_list_markers:\r\n",
      "- '['\r\n",
      "- ']'\r\n",
      "key_configs:\r\n",
      "  books:\r\n",
      "    delete: true\r\n",
      "    distinct_values: null\r\n",
      "    flatten: true\r\n",
      "    is_list: true\r\n",
      "    mappings:\r\n",
      "      id: books_id\r\n",
      "      name: books_name\r\n",
      "      price: books_price\r\n",
      "      summary: books_summary\r\n",
      "    melt_list_elements: false\r\n",
      "    serializers: []\r\n",
      "    typemap: null\r\n",
      "  creator:\r\n",
      "    delete: true\r\n",
      "    distinct_values: null\r\n",
      "    flatten: true\r\n",
      "    is_list: false\r\n",
      "    mappings:\r\n",
      "      from_country: creator_from_country\r\n",
      "      genres: creator_genres\r\n",
      "      name: creator_name\r\n",
      "    melt_list_elements: false\r\n",
      "    serializers: []\r\n",
      "    typemap: null\r\n",
      "sep: _\r\n"
     ]
    }
   ],
   "source": [
    "!cat examples/books1-mappings.yaml"
   ]
  },
  {
   "cell_type": "markdown",
   "id": "65dc8674",
   "metadata": {},
   "source": [
    "## Unflattening\n",
    "\n",
    "A CSV that is generated using jfl should always be roundtrippable, unless lossy conversion options are specifically chosen.\n",
    "\n",
    "First we look at the help for the unflatten command"
   ]
  },
  {
   "cell_type": "code",
   "execution_count": 11,
   "id": "7abc7bfd",
   "metadata": {},
   "outputs": [
    {
     "name": "stdout",
     "output_type": "stream",
     "text": [
      "Usage: jfl unflatten [OPTIONS]\r\n",
      "\r\n",
      "  Unflatten a file from TSV/CSV\r\n",
      "\r\n",
      "  Example:     jfl unflatten --input my.tsv --output my.yaml\r\n",
      "\r\n",
      "Options:\r\n",
      "  -i, --input PATH             Input file, e.g. a SSSOM tsv file.  [required]\r\n",
      "  -I, --input-format TEXT      The string denoting the input format, e.g.\r\n",
      "                               tsv,csv,yaml,json\r\n",
      "\r\n",
      "  -o, --output TEXT            Output file, e.g. a SSSOM tsv file.\r\n",
      "  -t, --output-format TEXT     Desired output format, e.g. tsv,csv,yaml,json\r\n",
      "  -L, --multivalued-keys TEXT  List of keys that are multivalued\r\n",
      "  -F, --flatten-keys TEXT      List of keys that are to be flattened\r\n",
      "  -s, --serializer TEXT        Serializer to use for complex keys\r\n",
      "  -S, --serialized-keys TEXT   List of keys that are to be serialized using\r\n",
      "                               the serializer\r\n",
      "\r\n",
      "  -C, --config-key TEXT        Key configuration. Must be of form\r\n",
      "                               KEY={yaml,json,flat,multivalued}*\r\n",
      "\r\n",
      "  -c, --load-config TEXT       Path to global configuration file to be loaded\r\n",
      "  -k, --key TEXT               Key in root object to be used.\r\n",
      "  --help                       Show this message and exit.\r\n"
     ]
    }
   ],
   "source": [
    "!jfl unflatten --help"
   ]
  },
  {
   "cell_type": "code",
   "execution_count": 12,
   "id": "e0bd52be",
   "metadata": {},
   "outputs": [],
   "source": [
    "!jfl unflatten -i examples/books1-flattened.tsv --load-config examples/books1-mappings.yaml \\\n",
    "  -o examples/books1-roundtripped.json"
   ]
  },
  {
   "cell_type": "code",
   "execution_count": 13,
   "id": "ced1c890",
   "metadata": {},
   "outputs": [
    {
     "name": "stdout",
     "output_type": "stream",
     "text": [
      "\u001b[1;39m[\r\n",
      "  \u001b[1;39m{\r\n",
      "    \u001b[0m\u001b[34;1m\"genres\"\u001b[0m\u001b[1;39m: \u001b[0m\u001b[1;39m[\r\n",
      "      \u001b[0;32m\"fantasy\"\u001b[0m\u001b[1;39m\r\n",
      "    \u001b[1;39m]\u001b[0m\u001b[1;39m,\r\n",
      "    \u001b[0m\u001b[34;1m\"id\"\u001b[0m\u001b[1;39m: \u001b[0m\u001b[0;32m\"S001\"\u001b[0m\u001b[1;39m,\r\n",
      "    \u001b[0m\u001b[34;1m\"name\"\u001b[0m\u001b[1;39m: \u001b[0m\u001b[0;32m\"Lord of the Rings\"\u001b[0m\u001b[1;39m,\r\n",
      "    \u001b[0m\u001b[34;1m\"books\"\u001b[0m\u001b[1;39m: \u001b[0m\u001b[1;39m[\r\n",
      "      \u001b[1;39m{\r\n",
      "        \u001b[0m\u001b[34;1m\"id\"\u001b[0m\u001b[1;39m: \u001b[0m\u001b[0;32m\"S001.1\"\u001b[0m\u001b[1;39m,\r\n",
      "        \u001b[0m\u001b[34;1m\"name\"\u001b[0m\u001b[1;39m: \u001b[0m\u001b[0;32m\"Fellowship of the Ring\"\u001b[0m\u001b[1;39m,\r\n",
      "        \u001b[0m\u001b[34;1m\"price\"\u001b[0m\u001b[1;39m: \u001b[0m\u001b[0;39m5.99\u001b[0m\u001b[1;39m,\r\n",
      "        \u001b[0m\u001b[34;1m\"summary\"\u001b[0m\u001b[1;39m: \u001b[0m\u001b[0;32m\"Hobbits\"\u001b[0m\u001b[1;39m\r\n",
      "      \u001b[1;39m}\u001b[0m\u001b[1;39m,\r\n",
      "      \u001b[1;39m{\r\n",
      "        \u001b[0m\u001b[34;1m\"id\"\u001b[0m\u001b[1;39m: \u001b[0m\u001b[0;32m\"S001.2\"\u001b[0m\u001b[1;39m,\r\n",
      "        \u001b[0m\u001b[34;1m\"name\"\u001b[0m\u001b[1;39m: \u001b[0m\u001b[0;32m\"The Two Towers\"\u001b[0m\u001b[1;39m,\r\n",
      "        \u001b[0m\u001b[34;1m\"price\"\u001b[0m\u001b[1;39m: \u001b[0m\u001b[0;39m5.99\u001b[0m\u001b[1;39m,\r\n",
      "        \u001b[0m\u001b[34;1m\"summary\"\u001b[0m\u001b[1;39m: \u001b[0m\u001b[0;32m\"More hobbits\"\u001b[0m\u001b[1;39m\r\n",
      "      \u001b[1;39m}\u001b[0m\u001b[1;39m,\r\n",
      "      \u001b[1;39m{\r\n",
      "        \u001b[0m\u001b[34;1m\"id\"\u001b[0m\u001b[1;39m: \u001b[0m\u001b[0;32m\"S001.3\"\u001b[0m\u001b[1;39m,\r\n",
      "        \u001b[0m\u001b[34;1m\"name\"\u001b[0m\u001b[1;39m: \u001b[0m\u001b[0;32m\"Return of the King\"\u001b[0m\u001b[1;39m,\r\n",
      "        \u001b[0m\u001b[34;1m\"price\"\u001b[0m\u001b[1;39m: \u001b[0m\u001b[0;39m6.99\u001b[0m\u001b[1;39m,\r\n",
      "        \u001b[0m\u001b[34;1m\"summary\"\u001b[0m\u001b[1;39m: \u001b[0m\u001b[0;32m\"Yet more hobbits\"\u001b[0m\u001b[1;39m\r\n",
      "      \u001b[1;39m}\u001b[0m\u001b[1;39m\r\n",
      "    \u001b[1;39m]\u001b[0m\u001b[1;39m,\r\n",
      "    \u001b[0m\u001b[34;1m\"creator\"\u001b[0m\u001b[1;39m: \u001b[0m\u001b[1;39m{\r\n",
      "      \u001b[0m\u001b[34;1m\"from_country\"\u001b[0m\u001b[1;39m: \u001b[0m\u001b[0;32m\"England\"\u001b[0m\u001b[1;39m,\r\n",
      "      \u001b[0m\u001b[34;1m\"name\"\u001b[0m\u001b[1;39m: \u001b[0m\u001b[0;32m\"JRR Tolkein\"\u001b[0m\u001b[1;39m\r\n",
      "    \u001b[1;39m}\u001b[0m\u001b[1;39m\r\n",
      "  \u001b[1;39m}\u001b[0m\u001b[1;39m,\r\n",
      "  \u001b[1;39m{\r\n",
      "    \u001b[0m\u001b[34;1m\"genres\"\u001b[0m\u001b[1;39m: \u001b[0m\u001b[1;39m[\r\n",
      "      \u001b[0;32m\"scifi\"\u001b[0m\u001b[1;39m\r\n",
      "    \u001b[1;39m]\u001b[0m\u001b[1;39m,\r\n",
      "    \u001b[0m\u001b[34;1m\"id\"\u001b[0m\u001b[1;39m: \u001b[0m\u001b[0;32m\"S002\"\u001b[0m\u001b[1;39m,\r\n",
      "    \u001b[0m\u001b[34;1m\"name\"\u001b[0m\u001b[1;39m: \u001b[0m\u001b[0;32m\"The Culture Series\"\u001b[0m\u001b[1;39m,\r\n",
      "    \u001b[0m\u001b[34;1m\"books\"\u001b[0m\u001b[1;39m: \u001b[0m\u001b[1;39m[\r\n",
      "      \u001b[1;39m{\r\n",
      "        \u001b[0m\u001b[34;1m\"id\"\u001b[0m\u001b[1;39m: \u001b[0m\u001b[0;32m\"S002.1\"\u001b[0m\u001b[1;39m,\r\n",
      "        \u001b[0m\u001b[34;1m\"name\"\u001b[0m\u001b[1;39m: \u001b[0m\u001b[0;32m\"Consider Phlebas\"\u001b[0m\u001b[1;39m,\r\n",
      "        \u001b[0m\u001b[34;1m\"price\"\u001b[0m\u001b[1;39m: \u001b[0m\u001b[0;39m5.99\u001b[0m\u001b[1;39m\r\n",
      "      \u001b[1;39m}\u001b[0m\u001b[1;39m,\r\n",
      "      \u001b[1;39m{\r\n",
      "        \u001b[0m\u001b[34;1m\"id\"\u001b[0m\u001b[1;39m: \u001b[0m\u001b[0;32m\"S002.2\"\u001b[0m\u001b[1;39m,\r\n",
      "        \u001b[0m\u001b[34;1m\"name\"\u001b[0m\u001b[1;39m: \u001b[0m\u001b[0;32m\"Player of Games\"\u001b[0m\u001b[1;39m,\r\n",
      "        \u001b[0m\u001b[34;1m\"price\"\u001b[0m\u001b[1;39m: \u001b[0m\u001b[0;39m5.99\u001b[0m\u001b[1;39m\r\n",
      "      \u001b[1;39m}\u001b[0m\u001b[1;39m\r\n",
      "    \u001b[1;39m]\u001b[0m\u001b[1;39m,\r\n",
      "    \u001b[0m\u001b[34;1m\"creator\"\u001b[0m\u001b[1;39m: \u001b[0m\u001b[1;39m{\r\n",
      "      \u001b[0m\u001b[34;1m\"from_country\"\u001b[0m\u001b[1;39m: \u001b[0m\u001b[0;32m\"Scotland\"\u001b[0m\u001b[1;39m,\r\n",
      "      \u001b[0m\u001b[34;1m\"name\"\u001b[0m\u001b[1;39m: \u001b[0m\u001b[0;32m\"Ian M Banks\"\u001b[0m\u001b[1;39m\r\n",
      "    \u001b[1;39m}\u001b[0m\u001b[1;39m\r\n",
      "  \u001b[1;39m}\u001b[0m\u001b[1;39m,\r\n",
      "  \u001b[1;39m{\r\n",
      "    \u001b[0m\u001b[34;1m\"genres\"\u001b[0m\u001b[1;39m: \u001b[0m\u001b[1;39m[\r\n",
      "      \u001b[0;32m\"scifi\"\u001b[0m\u001b[1;39m,\r\n",
      "      \u001b[0;32m\"fantasy\"\u001b[0m\u001b[1;39m\r\n",
      "    \u001b[1;39m]\u001b[0m\u001b[1;39m,\r\n",
      "    \u001b[0m\u001b[34;1m\"id\"\u001b[0m\u001b[1;39m: \u001b[0m\u001b[0;32m\"S003\"\u001b[0m\u001b[1;39m,\r\n",
      "    \u001b[0m\u001b[34;1m\"name\"\u001b[0m\u001b[1;39m: \u001b[0m\u001b[0;32m\"Book of the New Sun\"\u001b[0m\u001b[1;39m,\r\n",
      "    \u001b[0m\u001b[34;1m\"books\"\u001b[0m\u001b[1;39m: \u001b[0m\u001b[1;39m[\r\n",
      "      \u001b[1;39m{\r\n",
      "        \u001b[0m\u001b[34;1m\"id\"\u001b[0m\u001b[1;39m: \u001b[0m\u001b[0;32m\"S003.1\"\u001b[0m\u001b[1;39m,\r\n",
      "        \u001b[0m\u001b[34;1m\"name\"\u001b[0m\u001b[1;39m: \u001b[0m\u001b[0;32m\"Shadow of the Torturer\"\u001b[0m\u001b[1;39m\r\n",
      "      \u001b[1;39m}\u001b[0m\u001b[1;39m,\r\n",
      "      \u001b[1;39m{\r\n",
      "        \u001b[0m\u001b[34;1m\"id\"\u001b[0m\u001b[1;39m: \u001b[0m\u001b[0;32m\"S003.2\"\u001b[0m\u001b[1;39m,\r\n",
      "        \u001b[0m\u001b[34;1m\"name\"\u001b[0m\u001b[1;39m: \u001b[0m\u001b[0;32m\"Claw of the Conciliator\"\u001b[0m\u001b[1;39m,\r\n",
      "        \u001b[0m\u001b[34;1m\"price\"\u001b[0m\u001b[1;39m: \u001b[0m\u001b[0;39m6.99\u001b[0m\u001b[1;39m\r\n",
      "      \u001b[1;39m}\u001b[0m\u001b[1;39m\r\n",
      "    \u001b[1;39m]\u001b[0m\u001b[1;39m,\r\n",
      "    \u001b[0m\u001b[34;1m\"creator\"\u001b[0m\u001b[1;39m: \u001b[0m\u001b[1;39m{\r\n",
      "      \u001b[0m\u001b[34;1m\"from_country\"\u001b[0m\u001b[1;39m: \u001b[0m\u001b[0;32m\"USA\"\u001b[0m\u001b[1;39m,\r\n",
      "      \u001b[0m\u001b[34;1m\"genres\"\u001b[0m\u001b[1;39m: \u001b[0m\u001b[1;39m[\r\n",
      "        \u001b[0;32m\"scifi\"\u001b[0m\u001b[1;39m,\r\n",
      "        \u001b[0;32m\"fantasy\"\u001b[0m\u001b[1;39m\r\n",
      "      \u001b[1;39m]\u001b[0m\u001b[1;39m,\r\n",
      "      \u001b[0m\u001b[34;1m\"name\"\u001b[0m\u001b[1;39m: \u001b[0m\u001b[0;32m\"Gene Wolfe\"\u001b[0m\u001b[1;39m\r\n",
      "    \u001b[1;39m}\u001b[0m\u001b[1;39m\r\n",
      "  \u001b[1;39m}\u001b[0m\u001b[1;39m,\r\n",
      "  \u001b[1;39m{\r\n",
      "    \u001b[0m\u001b[34;1m\"id\"\u001b[0m\u001b[1;39m: \u001b[0m\u001b[0;32m\"S004\"\u001b[0m\u001b[1;39m,\r\n",
      "    \u001b[0m\u001b[34;1m\"name\"\u001b[0m\u001b[1;39m: \u001b[0m\u001b[0;32m\"Example with single book\"\u001b[0m\u001b[1;39m,\r\n",
      "    \u001b[0m\u001b[34;1m\"books\"\u001b[0m\u001b[1;39m: \u001b[0m\u001b[1;39m[\r\n",
      "      \u001b[1;39m{\r\n",
      "        \u001b[0m\u001b[34;1m\"id\"\u001b[0m\u001b[1;39m: \u001b[0m\u001b[0;32m\"S004.1\"\u001b[0m\u001b[1;39m,\r\n",
      "        \u001b[0m\u001b[34;1m\"name\"\u001b[0m\u001b[1;39m: \u001b[0m\u001b[0;32m\"Blah\"\u001b[0m\u001b[1;39m\r\n",
      "      \u001b[1;39m}\u001b[0m\u001b[1;39m\r\n",
      "    \u001b[1;39m]\u001b[0m\u001b[1;39m,\r\n",
      "    \u001b[0m\u001b[34;1m\"creator\"\u001b[0m\u001b[1;39m: \u001b[0m\u001b[1;39m{\r\n",
      "      \u001b[0m\u001b[34;1m\"from_country\"\u001b[0m\u001b[1;39m: \u001b[0m\u001b[0;32m\"USA\"\u001b[0m\u001b[1;39m,\r\n",
      "      \u001b[0m\u001b[34;1m\"genres\"\u001b[0m\u001b[1;39m: \u001b[0m\u001b[1;39m[\r\n",
      "        \u001b[0;32m\"romance\"\u001b[0m\u001b[1;39m\r\n",
      "      \u001b[1;39m]\u001b[0m\u001b[1;39m,\r\n",
      "      \u001b[0m\u001b[34;1m\"name\"\u001b[0m\u001b[1;39m: \u001b[0m\u001b[0;32m\"Ms Writer\"\u001b[0m\u001b[1;39m\r\n",
      "    \u001b[1;39m}\u001b[0m\u001b[1;39m\r\n",
      "  \u001b[1;39m}\u001b[0m\u001b[1;39m,\r\n",
      "  \u001b[1;39m{\r\n",
      "    \u001b[0m\u001b[34;1m\"id\"\u001b[0m\u001b[1;39m: \u001b[0m\u001b[0;32m\"S005\"\u001b[0m\u001b[1;39m,\r\n",
      "    \u001b[0m\u001b[34;1m\"name\"\u001b[0m\u001b[1;39m: \u001b[0m\u001b[0;32m\"Example with no books\"\u001b[0m\u001b[1;39m,\r\n",
      "    \u001b[0m\u001b[34;1m\"creator\"\u001b[0m\u001b[1;39m: \u001b[0m\u001b[1;39m{\r\n",
      "      \u001b[0m\u001b[34;1m\"from_country\"\u001b[0m\u001b[1;39m: \u001b[0m\u001b[0;32m\"USA\"\u001b[0m\u001b[1;39m,\r\n",
      "      \u001b[0m\u001b[34;1m\"genres\"\u001b[0m\u001b[1;39m: \u001b[0m\u001b[1;39m[\r\n",
      "        \u001b[0;32m\"romance\"\u001b[0m\u001b[1;39m,\r\n",
      "        \u001b[0;32m\"scifi\"\u001b[0m\u001b[1;39m,\r\n",
      "        \u001b[0;32m\"fantasy\"\u001b[0m\u001b[1;39m\r\n",
      "      \u001b[1;39m]\u001b[0m\u001b[1;39m,\r\n",
      "      \u001b[0m\u001b[34;1m\"name\"\u001b[0m\u001b[1;39m: \u001b[0m\u001b[0;32m\"Mr Unproductive\"\u001b[0m\u001b[1;39m\r\n",
      "    \u001b[1;39m}\u001b[0m\u001b[1;39m\r\n",
      "  \u001b[1;39m}\u001b[0m\u001b[1;39m\r\n",
      "\u001b[1;39m]\u001b[0m\r\n"
     ]
    }
   ],
   "source": [
    "!jq . examples/books1-roundtripped.json"
   ]
  }
 ],
 "metadata": {
  "kernelspec": {
   "display_name": "Python 3 (ipykernel)",
   "language": "python",
   "name": "python3"
  },
  "language_info": {
   "codemirror_mode": {
    "name": "ipython",
    "version": 3
   },
   "file_extension": ".py",
   "mimetype": "text/x-python",
   "name": "python",
   "nbconvert_exporter": "python",
   "pygments_lexer": "ipython3",
   "version": "3.9.5"
  }
 },
 "nbformat": 4,
 "nbformat_minor": 5
}
